{
 "cells": [
  {
   "cell_type": "markdown",
   "metadata": {},
   "source": [
    "## Imports"
   ]
  },
  {
   "cell_type": "code",
   "execution_count": 1,
   "metadata": {},
   "outputs": [],
   "source": [
    "import asyncio\n",
    "import time\n",
    "from threading import Thread\n",
    "from rtlsdr import RtlSdr"
   ]
  },
  {
   "cell_type": "markdown",
   "metadata": {},
   "source": [
    "\n",
    "## Setup logging"
   ]
  },
  {
   "cell_type": "code",
   "execution_count": 2,
   "metadata": {},
   "outputs": [],
   "source": [
    "import logging\n",
    "import os\n",
    "#Cleanup\n",
    "try:\n",
    "    os.remove('mylog.log')\n",
    "except:\n",
    "    pass\n",
    "#loggingSetup\n",
    "logger = logging.getLogger()\n",
    "fhandler = logging.FileHandler(filename='mylog.log', mode='a')\n",
    "formatter = logging.Formatter('%(asctime)s - %(name)s - %(levelname)s - %(message)s')\n",
    "fhandler.setFormatter(formatter)\n",
    "logger.addHandler(fhandler)\n",
    "logger.setLevel(logging.DEBUG)"
   ]
  },
  {
   "cell_type": "markdown",
   "metadata": {},
   "source": [
    "## Global variables"
   ]
  },
  {
   "cell_type": "code",
   "execution_count": 3,
   "metadata": {},
   "outputs": [],
   "source": [
    "#global sdr\n",
    "exit_flag = False\n",
    "upd_flag = False\n",
    "\n",
    "n = 128*1024\n",
    "\n",
    "sample_rate = 2.4e6\n",
    "center_freq = 99.5e6\n",
    "sdr_gain = 496\n",
    "\n",
    "buffer_received = False"
   ]
  },
  {
   "cell_type": "markdown",
   "metadata": {},
   "source": [
    "# PL setup"
   ]
  },
  {
   "cell_type": "markdown",
   "metadata": {},
   "source": [
    "## Setup Overlay"
   ]
  },
  {
   "cell_type": "code",
   "execution_count": 4,
   "metadata": {},
   "outputs": [
    {
     "data": {
      "application/javascript": [
       "\n",
       "require(['notebook/js/codecell'], function(codecell) {\n",
       "  codecell.CodeCell.options_default.highlight_modes[\n",
       "      'magic_text/x-csrc'] = {'reg':[/^%%microblaze/]};\n",
       "  Jupyter.notebook.events.one('kernel_ready.Kernel', function(){\n",
       "      Jupyter.notebook.get_cells().map(function(cell){\n",
       "          if (cell.cell_type == 'code'){ cell.auto_highlight(); } }) ;\n",
       "  });\n",
       "});\n"
      ]
     },
     "metadata": {},
     "output_type": "display_data"
    }
   ],
   "source": [
    "from pynq import Overlay\n",
    "import pynq.lib.dma\n",
    "# Load the overlay"
   ]
  },
  {
   "cell_type": "code",
   "execution_count": 5,
   "metadata": {},
   "outputs": [],
   "source": [
    "overlay = Overlay('/home/xilinx/pynq/overlays/Teste/design_1.bit')\n",
    "# Load the DMA\n",
    "#dma = overlay.axi_dma\n",
    "pAudio = overlay.audio_codec"
   ]
  },
  {
   "cell_type": "markdown",
   "metadata": {},
   "source": [
    "## Setup DMA buffers"
   ]
  },
  {
   "cell_type": "code",
   "execution_count": 6,
   "metadata": {},
   "outputs": [],
   "source": [
    "from pynq import Xlnk\n",
    "import numpy as np\n",
    "import math\n",
    "xlnk = Xlnk()\n",
    "#send_buffer = xlnk.cma_array(shape=(n,), dtype=np.int8) #Allocate input buffer \n",
    "#rec_buffer = xlnk.cma_array(shape=(n,), dtype=np.int32) # Allocate output buffer"
   ]
  },
  {
   "cell_type": "markdown",
   "metadata": {},
   "source": [
    "## Setup Audio"
   ]
  },
  {
   "cell_type": "code",
   "execution_count": 7,
   "metadata": {},
   "outputs": [],
   "source": [
    "# Buffer setup\n",
    "pl_smpl = int(64e3)\n",
    "pAudio.sample_len = math.ceil(pl_smpl)\n",
    "num_samples_32b = pAudio.sample_len * 2\n",
    "# Create data buffer\n",
    "temp_buffer = np.zeros(num_samples_32b, dtype=np.int32)\n",
    "pAudio.buffer = np.zeros(num_samples_32b, dtype=np.int32)"
   ]
  },
  {
   "cell_type": "markdown",
   "metadata": {},
   "source": [
    "## Define functions"
   ]
  },
  {
   "cell_type": "code",
   "execution_count": 8,
   "metadata": {},
   "outputs": [],
   "source": [
    "#Define streaming function\n",
    "async def streaming(sdr):\n",
    "    logging.debug(\"Inside streaming\")\n",
    "    async for raw_samples in sdr.stream(num_samples_or_bytes=n, format=\"bytes\"):\n",
    "        if not exit_flag:\n",
    "            logging.debug(raw_samples)\n",
    "            np.copyto(send_buffer, raw_samples)\n",
    "            logging.debug(\"Transferring the buffer to PL\")\n",
    "            dma.sendchannel.transfer(send_buffer)\n",
    "            #dma.sendchannel.wait() #Can we do this with async.wait? YES\n",
    "            #settup interrupt\n",
    "            logging.debug(\"Awaiting for Tx transfer to finish\")\n",
    "            await dma.sendchannel.wait_async()\n",
    "            logging.debug(\"Tx transfer finished\")\n",
    "            # clear the buffer?\n",
    "        else:\n",
    "            logging.debug(\"Stopping SDR\")\n",
    "            break\n",
    "    #Cleanup\n",
    "    logging.debug(\"Running sdr.stop()\")\n",
    "    await sdr.stop()\n",
    "    sdr.close()\n",
    "    logging.debug(\"Exiting streaming\")"
   ]
  },
  {
   "cell_type": "code",
   "execution_count": 9,
   "metadata": {},
   "outputs": [],
   "source": [
    "# Receive and play demodulated samples\n",
    "async def receiving():\n",
    "    global buffer_received\n",
    "    while not exit_flag: \n",
    "        logging.debug(\"Receiving data from PL\")\n",
    "        dma.recvchannel.transfer(rec_buffer)\n",
    "        await dma.recvchannel.wait_async()\n",
    "        logging.debug(\"Data from PL received\")\n",
    "        #np.copyto(pAudio.buffer, [rec_buffer, rec_buffer])\n",
    "        #np.copyto(pAudio.buffer, np.concatenate((rec_buffer, rec_buffer), axis=None))\n",
    "        np.copyto(temp_buffer, np.repeat(rec_buffer*5, 2))\n",
    "        #await asyncio.sleep(1)\n",
    "        buffer_received = True"
   ]
  },
  {
   "cell_type": "code",
   "execution_count": 10,
   "metadata": {},
   "outputs": [],
   "source": [
    "#Define RTL-SDR update function\n",
    "async def sdr_upd(sdr):\n",
    "    global upd_flag\n",
    "    while not exit_flag:\n",
    "        if upd_flag:\n",
    "            logging.debug(\"sample_rate => \" + str(sample_rate))\n",
    "            logging.debug(\"center_freq => \" + str(center_freq))\n",
    "            logging.debug(\"sdr_gain => \" + str(sdr_gain))\n",
    "            sdr.sample_rate = sample_rate\n",
    "            sdr.center_freq = center_freq\n",
    "            sdr.sdr_gain    = sdr_gain\n",
    "            await asyncio.sleep(1)\n",
    "            logging.debug(\"sample_rate = \" + str(sdr.get_sample_rate()))\n",
    "            logging.debug(\"center_freq = \" + str(sdr.get_center_freq()))\n",
    "            logging.debug(\"sdr_gain = \" + str(sdr.get_gain()))\n",
    "            upd_flag = False\n",
    "        await asyncio.sleep(1)"
   ]
  },
  {
   "cell_type": "code",
   "execution_count": 11,
   "metadata": {},
   "outputs": [],
   "source": [
    "#Thread function\n",
    "def start_threaded_loop():\n",
    "    logging.debug(\"Starting the stream\")\n",
    "    loop = asyncio.new_event_loop()\n",
    "    asyncio.set_event_loop(loop)\n",
    "    global dma\n",
    "    global send_buffer\n",
    "    global rec_buffer\n",
    "    dma = overlay.axi_dma\n",
    "    send_buffer = xlnk.cma_array(shape=(n,), dtype=np.int8) #Allocate input buffer \n",
    "    rec_buffer = xlnk.cma_array(shape=(pl_smpl,), dtype=np.int32) # Allocate output buffer\n",
    "    \n",
    "    try:\n",
    "        logging.debug(\"Starting new loop\")\n",
    "        sdr = RtlSdr()\n",
    "        loop.run_until_complete(asyncio.gather(streaming(sdr), receiving(), sdr_upd(sdr)))\n",
    "    finally:\n",
    "        logging.debug(\"Closing the loop\")\n",
    "        loop.close()\n",
    "        logging.debug(\"Loop closed \\n returning\")"
   ]
  },
  {
   "cell_type": "markdown",
   "metadata": {},
   "source": [
    "### Define function for playing audio"
   ]
  },
  {
   "cell_type": "code",
   "execution_count": 12,
   "metadata": {},
   "outputs": [],
   "source": [
    "def playing_thread():\n",
    "    global buffer_received\n",
    "    while not exit_flag:\n",
    "        if buffer_received:\n",
    "            np.copyto(pAudio.buffer, temp_buffer)\n",
    "            buffer_received = False\n",
    "            logging.debug(\"Playing\")\n",
    "            pAudio.play()\n",
    "            logging.debug(\"Played\")"
   ]
  },
  {
   "cell_type": "markdown",
   "metadata": {},
   "source": [
    "## Create and start a seperate thread for streaming"
   ]
  },
  {
   "cell_type": "code",
   "execution_count": 13,
   "metadata": {
    "scrolled": true
   },
   "outputs": [],
   "source": [
    "nthread = Thread(target=start_threaded_loop)\n",
    "pthread = Thread(target=playing_thread)\n",
    "logging.debug(\"Starting new thread\")\n",
    "nthread.start()\n",
    "pthread.start()\n",
    "time.sleep(10)"
   ]
  },
  {
   "cell_type": "markdown",
   "metadata": {},
   "source": [
    "## RTL-SDR setup"
   ]
  },
  {
   "cell_type": "code",
   "execution_count": 14,
   "metadata": {},
   "outputs": [],
   "source": [
    "upd_flag = True\n",
    "center_freq = 99.5e6\n",
    "sdr_gain = 496\n",
    "logging.debug(\"Updating RTL-SDR in main\")"
   ]
  },
  {
   "cell_type": "code",
   "execution_count": null,
   "metadata": {},
   "outputs": [],
   "source": [
    "time.sleep(5)"
   ]
  },
  {
   "cell_type": "markdown",
   "metadata": {},
   "source": [
    "## Kill it with fire"
   ]
  },
  {
   "cell_type": "code",
   "execution_count": null,
   "metadata": {
    "scrolled": false
   },
   "outputs": [],
   "source": [
    "logging.debug(\"EXIT_FLAG\")\n",
    "exit_flag = True\n",
    "time.sleep(5)\n",
    "nthread.join()\n",
    "logging.debug(\"nthread is alive: \" + str(nthread.isAlive()))"
   ]
  }
 ],
 "metadata": {
  "kernelspec": {
   "display_name": "Python 3",
   "language": "python",
   "name": "python3"
  },
  "language_info": {
   "codemirror_mode": {
    "name": "ipython",
    "version": 3
   },
   "file_extension": ".py",
   "mimetype": "text/x-python",
   "name": "python",
   "nbconvert_exporter": "python",
   "pygments_lexer": "ipython3",
   "version": "3.6.5"
  }
 },
 "nbformat": 4,
 "nbformat_minor": 2
}
